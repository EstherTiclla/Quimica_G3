{
  "nbformat": 4,
  "nbformat_minor": 0,
  "metadata": {
    "colab": {
      "provenance": [],
      "include_colab_link": true
    },
    "kernelspec": {
      "name": "python3",
      "display_name": "Python 3"
    },
    "language_info": {
      "name": "python"
    }
  },
  "cells": [
    {
      "cell_type": "markdown",
      "metadata": {
        "id": "view-in-github",
        "colab_type": "text"
      },
      "source": [
        "<a href=\"https://colab.research.google.com/github/EstherTiclla/Quimica_G3/blob/main/BALOTARIO_Quimica_UNMSM.ipynb\" target=\"_parent\"><img src=\"https://colab.research.google.com/assets/colab-badge.svg\" alt=\"Open In Colab\"/></a>"
      ]
    },
    {
      "cell_type": "markdown",
      "source": [
        "$$\\Large \\textit{UNMSM | Química}$$\n",
        "\n",
        "*   Elemento de lista\n",
        "*   Elemento de lista\n",
        "\n",
        "\n",
        "$$\\large \\textbf{Balotario}$$\n",
        "\n",
        "_Profesor: Jesus Alvarado Huayhuaz_"
      ],
      "metadata": {
        "id": "sDJAjbaQOj4x"
      }
    },
    {
      "cell_type": "markdown",
      "source": [
        "Todas las indicaciones para la presentación de la práctica son explicadas en clase y brindadas en el material de enunciado de preguntas en formato PDF."
      ],
      "metadata": {
        "id": "_DsTzWLoP7Fy"
      }
    },
    {
      "cell_type": "markdown",
      "source": [
        "Actividad: Estado Gaseoso\n",
        "\n",
        "\n",
        "**NOTA: Fue subido el 16 de octubre al classroom, pero falto subir al github, mil disculpas**\n"
      ],
      "metadata": {
        "id": "kAmKq4OJ6ZOG"
      }
    },
    {
      "cell_type": "markdown",
      "source": [
        "## Pregunta 1: Calcula el volumen ocupado por 2 moles de gas a una presión de 3 atmósferas y una temperatura de 300 K."
      ],
      "metadata": {
        "id": "obD7c2igOD6t"
      }
    },
    {
      "cell_type": "code",
      "source": [
        "\"\"\"P=presion (atm o mmHg)\n",
        "V=volumen ocupado por el gas (litros)\n",
        "T=temperatura en kelvin\n",
        "n=numero de moles del gas\n",
        "R=cte universal de los gases (0.082 o 62.4)\"\"\"\n",
        "\n",
        "P=3\n",
        "T=300\n",
        "n=2\n",
        "R=0.082\n",
        "\n",
        "#Ecuacion P.V=R.T.n\n",
        "\n",
        "V=(R*T*n)/P\n",
        "V=round(V,4)\n",
        "\n",
        "print(\"El volumen es: \",V,\" litros\")"
      ],
      "metadata": {
        "id": "KgufE4MONYME",
        "colab": {
          "base_uri": "https://localhost:8080/"
        },
        "outputId": "bc7d4369-10bc-4429-a6af-db0af952c24a"
      },
      "execution_count": null,
      "outputs": [
        {
          "output_type": "stream",
          "name": "stdout",
          "text": [
            "El volumen es:  16.4  litros\n"
          ]
        }
      ]
    },
    {
      "cell_type": "markdown",
      "source": [
        "## Pregunta 2: En condiciones estándar, ¿cuántos moles de gas hay en 5 litros de oxígeno (O2)?"
      ],
      "metadata": {
        "id": "epzOadagLfPi"
      }
    },
    {
      "cell_type": "code",
      "source": [
        "#V_molar= volumen molar normal\n",
        "#n=numero de moles\n",
        "V_molar= 22.4\n",
        "numero_litros= 5\n",
        "n = numero_litros / V_molar\n",
        "n=round(n,4)\n",
        "print(\"el numero de moles en 5 litros es: \",n)\n"
      ],
      "metadata": {
        "id": "gJGX0p5QLetj",
        "colab": {
          "base_uri": "https://localhost:8080/"
        },
        "outputId": "aaad35e9-956b-410d-bcde-215d22e6f1b6"
      },
      "execution_count": null,
      "outputs": [
        {
          "output_type": "stream",
          "name": "stdout",
          "text": [
            "el numero de moles en 5 litros es:  0.2232\n"
          ]
        }
      ]
    },
    {
      "cell_type": "markdown",
      "source": [
        "# Pregunta 3: ¿Cuál es la principal característica que distingue a los gases de los líquidos y sólidos?"
      ],
      "metadata": {
        "id": "8gxSHpD3LZsh"
      }
    },
    {
      "cell_type": "markdown",
      "source": [
        "La principal diferencia entre gases y liquidos es la distancia entre las particulas en sus estados. En los gases, las molesculas estan altamente dispersas; estan separadas por la fuerza de repulsion que es mayor a la fuerza de atraccion, esto debido a su alta energia cinetica. Esta separacion entre moleculas hace que estan posean facil compresion por medio de una fuerza externa."
      ],
      "metadata": {
        "id": "FXmxUPMVUQjI"
      }
    },
    {
      "cell_type": "markdown",
      "source": [
        "# Pregunta 4: ¿Qué significa que un gas sea compresible? Menciona un ejemplo."
      ],
      "metadata": {
        "id": "kDJQRGUvVrmd"
      }
    },
    {
      "cell_type": "markdown",
      "source": [
        "Significa que los gases poseen baja densidad por lo que al aumentar la presion sobre ellos, disminuya su volumen. Se tiene que tener en cuenta que este fenomeno ocurre a una temperatura constante, para poder diferenciarla del fenomeno de la dilatacion.\n",
        "\n",
        "Un ejemplo de esto es cuando nosotros reducimos el volumen de un globo con gas cuando nosotros apretamos el globo de manera que la presion de este aumente."
      ],
      "metadata": {
        "id": "GA6eRKe5V3B5"
      }
    },
    {
      "cell_type": "markdown",
      "source": [
        "## Pregunta 5: Calcula la presión ejercida por 0.5 moles de gas en un recipiente de 10 litros a 25°C."
      ],
      "metadata": {
        "id": "CuzCcXJghR14"
      }
    },
    {
      "cell_type": "code",
      "source": [
        "temp_celcius=25\n",
        "temp_kelvin=25+273.15\n",
        "\n",
        "\"\"\"P=presion (atm o mmHg)\n",
        "V=volumen ocupado por el gas (litros)\n",
        "T=temperatura en kelvin\n",
        "n=numero de moles del gas\n",
        "R=cte universal de los gases (0.082 o 62.4)\"\"\"\n",
        "\n",
        "T=temp_kelvin\n",
        "V=10\n",
        "n=0.5\n",
        "R=0.082 #si usamos esta cte, la presion estara en atm\n",
        "\n",
        "P=(R*T*n)/V\n",
        "P=round(P,4)\n",
        "\n",
        "if R==0.082:\n",
        "  print(\"La presion es\", P,\"atm\")\n",
        "elif R==62.4:\n",
        "  print(\"La presion es\", P,\"mmHg\")\n",
        "else:\n",
        "  print(\"la constante de los gases es incorrecta, no se puede calcular\")"
      ],
      "metadata": {
        "colab": {
          "base_uri": "https://localhost:8080/"
        },
        "id": "hxrNELUvW-wh",
        "outputId": "c0ae8542-26e8-436f-ce87-abb3c3fc7e19"
      },
      "execution_count": null,
      "outputs": [
        {
          "output_type": "stream",
          "name": "stdout",
          "text": [
            "La presion es 1.2224 atm\n"
          ]
        }
      ]
    },
    {
      "cell_type": "markdown",
      "source": [
        "## Pregunta 6: Si tienes un gas a una presión de 1 atmósfera y lo comprimes a la mitad de su volumen, ¿cuál será la nueva presión? Supón que la temperatura y el número de moles es constante."
      ],
      "metadata": {
        "id": "38q1EWvCMvh6"
      }
    },
    {
      "cell_type": "code",
      "source": [
        "\"\"\"P=presion (atm o mmHg)\n",
        "V=volumen ocupado por el gas (litros)\n",
        "T=temperatura en kelvin\n",
        "n=numero de moles del gas\n",
        "R=cte universal de los gases (0.082 o 62.4)\"\"\"\n",
        "\n",
        "#De la ecuacion universal para un mismo gas, cuando T y n es constante:\n",
        "#P1xV1=P2xV2\n",
        "\n",
        "P1=1\n",
        "#V2=V1/2\n",
        "#proporcionalmente:\n",
        "\n",
        "V1=1\n",
        "V2=V1/2\n",
        "\n",
        "P2=(P1*V1)/V2\n",
        "\n",
        "print(\"La nueva presion es\", P2,\"atm\")\n"
      ],
      "metadata": {
        "colab": {
          "base_uri": "https://localhost:8080/"
        },
        "id": "KipG1X-jYoWK",
        "outputId": "43d9b0a1-19c8-4c9e-e21e-3fb912e34d86"
      },
      "execution_count": null,
      "outputs": [
        {
          "output_type": "stream",
          "name": "stdout",
          "text": [
            "La nueva presion es 2.0 atm\n"
          ]
        }
      ]
    },
    {
      "cell_type": "markdown",
      "source": [
        "## Pregunta 7: ¿Cuáles son los postulados clave de la teoría cinético-molecular de los gases?"
      ],
      "metadata": {
        "id": "742ge1H7Mwmx"
      }
    },
    {
      "cell_type": "markdown",
      "source": [
        "Esta teoria es resultado de querer explicar el comportamiento de los gases, asumiendo un gas ideal\n",
        "\n",
        "Sus postulados mas importantes:\n",
        "\n",
        "- Las moleculas son puntuales, es decir que su forma es esferica y el volumen de estas es despreciable, sin embargo si se toma en cuenta su masa\n",
        "\n",
        "- Las moleculas se encuentran en continuo movimiento rapido y de manera aleatoria, describendo trayectorias rectas.\n",
        "\n",
        "- Los choques entre moleculas son perfectamente elasticos, es decir que no existe perdida neta de la energia cinetica total de las moleculas\n"
      ],
      "metadata": {
        "id": "lEcyfUQ0aLub"
      }
    },
    {
      "cell_type": "markdown",
      "source": [
        "## Pregunta 8: Describe el comportamiento de las partículas de un gas ideal en términos de movimiento y colisiones."
      ],
      "metadata": {
        "id": "lYWtc3l_Mwv3"
      }
    },
    {
      "cell_type": "markdown",
      "source": [
        "Los choques de las moleculas entre si y las paredes son perfectamente elasticos y no pierden energia cinetica. No ocupan volumen y sus movimientos son rectilineos, rapidos y aleatorios."
      ],
      "metadata": {
        "id": "rldM40KMbX_r"
      }
    },
    {
      "cell_type": "markdown",
      "source": [
        "## Pregunta 9: Utiliza la ecuación de los gases ideales para calcular la presión de 2 moles de gas en un recipiente de 5 litros a 25°C."
      ],
      "metadata": {
        "id": "7wy0D_dDMw0v"
      }
    },
    {
      "cell_type": "code",
      "source": [
        "temp_celcius=25\n",
        "temp_kelvin=25+273.15\n",
        "\n",
        "\"\"\"P=presion (atm o mmHg)\n",
        "V=volumen ocupado por el gas (litros)\n",
        "T=temperatura en kelvin\n",
        "n=numero de moles del gas\n",
        "R=cte universal de los gases (0.082 o 62.4)\"\"\"\n",
        "\n",
        "T=temp_kelvin\n",
        "V=5\n",
        "n=2\n",
        "R=0.082\n",
        "\n",
        "P=(R*T*n)/V\n",
        "P=round(P,4)\n",
        "\n",
        "if R==0.082:\n",
        "  print(\"La presion es\", P,\"atm\")\n",
        "elif R==62.4:\n",
        "  print(\"La presion es\", P,\"mmHg\")\n",
        "else:\n",
        "  print(\"la constante de los gases es incorrecta, no se puede calcular\")"
      ],
      "metadata": {
        "colab": {
          "base_uri": "https://localhost:8080/"
        },
        "id": "nAIuBhRfcQ0b",
        "outputId": "e14a7671-4324-4684-92b2-d75931a9955f"
      },
      "execution_count": null,
      "outputs": [
        {
          "output_type": "stream",
          "name": "stdout",
          "text": [
            "La presion es 9.7793 atm\n"
          ]
        }
      ]
    },
    {
      "cell_type": "markdown",
      "source": [
        "## Pregunta 10: Si tienes un gas que ocupa 10 litros a 3 atmósferas de presión y 273 K de temperatura, ¿cuántos moles de gas tienes?"
      ],
      "metadata": {
        "id": "nYPPjPqcMw6H"
      }
    },
    {
      "cell_type": "code",
      "source": [
        "\"\"\"P=presion (atm o mmHg)\n",
        "V=volumen ocupado por el gas (litros)\n",
        "T=temperatura en kelvin\n",
        "n=numero de moles del gas\n",
        "R=cte universal de los gases (0.082 o 62.4)\"\"\"\n",
        "\n",
        "T=273\n",
        "V=10\n",
        "P=3 #en atm\n",
        "R=0.082\n",
        "\n",
        "n=(P*V)/(R*T)\n",
        "n=round(n,4)\n",
        "\n",
        "print(\"El numero de moles es\", n)"
      ],
      "metadata": {
        "colab": {
          "base_uri": "https://localhost:8080/"
        },
        "id": "rA35h65ucdcj",
        "outputId": "db5e58a2-cd57-4f9b-decb-b76a61c245c9"
      },
      "execution_count": null,
      "outputs": [
        {
          "output_type": "stream",
          "name": "stdout",
          "text": [
            "El numero de moles es 1.3401\n"
          ]
        }
      ]
    },
    {
      "cell_type": "markdown",
      "source": [
        "## Pregunta 11: Un recipiente de 2 litros contiene 1 mol de gas a 300 K. Si la presión se duplica manteniendo el volumen constante, ¿cuál será la nueva temperatura?"
      ],
      "metadata": {
        "id": "6mGoBFguNZP7"
      }
    },
    {
      "cell_type": "code",
      "source": [
        "\"\"\"P=presion (atm o mmHg)\n",
        "V=volumen ocupado por el gas (litros)\n",
        "T=temperatura en kelvin\n",
        "n=numero de moles del gas\n",
        "R=cte universal de los gases (0.082 o 62.4)\"\"\"\n",
        "\n",
        "#Usamos primero la ecuacion universal\n",
        "T1=300\n",
        "V=2\n",
        "n=1\n",
        "R=0.082\n",
        "\n",
        "P1=(R*T1*n)/V\n",
        "P1=round(P1,4)\n",
        "print(\"La primera presion mide\", P1,\"atm\")\n",
        "\n",
        "#Para un mismo gas con volumen constante:\n",
        "#P1/T1 = P2/T2\n",
        "\n",
        "P2=2*P1\n",
        "\n",
        "T2=(P2*T1)/P1\n",
        "T2=round(T2,4)\n",
        "\n",
        "print(\"La nueva temperatura sera\", T2, \"kelvin\")"
      ],
      "metadata": {
        "colab": {
          "base_uri": "https://localhost:8080/"
        },
        "id": "5djSroKvdV9T",
        "outputId": "13215a01-262a-448b-855b-8e1df1f11449"
      },
      "execution_count": null,
      "outputs": [
        {
          "output_type": "stream",
          "name": "stdout",
          "text": [
            "La primera presion mide 12.3 atm\n",
            "La nueva temperatura sera 0.0067 kelvin\n"
          ]
        }
      ]
    },
    {
      "cell_type": "markdown",
      "source": [
        "## Pregunta 12: Un recipiente de gas contiene 0.5 moles de gas a una temperatura de 27 °C. Si la presión se triplica manteniendo constante el volumen, ¿cuál será la nueva temperatura?"
      ],
      "metadata": {
        "id": "EwLVRXOwNZZ5"
      }
    },
    {
      "cell_type": "code",
      "source": [
        "\"\"\"P=presion (atm o mmHg)\n",
        "V=volumen ocupado por el gas (litros)\n",
        "T=temperatura en kelvin\n",
        "n=numero de moles del gas\n",
        "R=cte universal de los gases (0.082 o 62.4)\"\"\"\n",
        "\n",
        "T1_celsius=27\n",
        "\n",
        "T1 = T1_celsius + 273.15\n",
        "\n",
        "#Para un mismo gas con presion cte:\n",
        "#P1/T1 = P2/T2\n",
        "\n",
        "#P2 = 3P1\n",
        "#proporcionalmente:\n",
        "\n",
        "P1=1\n",
        "P2=3*P1\n",
        "\n",
        "T2=(P2*T1)/P1\n",
        "T2=round(T2,4)\n",
        "\n",
        "print(\"La nueva temperatura sera\", T2, \"kelvin\")"
      ],
      "metadata": {
        "colab": {
          "base_uri": "https://localhost:8080/"
        },
        "id": "RmeHDQfBc9wQ",
        "outputId": "af5953fb-60b8-4707-81ba-19463d50b1f9"
      },
      "execution_count": null,
      "outputs": [
        {
          "output_type": "stream",
          "name": "stdout",
          "text": [
            "La nueva temperatura sera 900.45 kelvin\n"
          ]
        }
      ]
    },
    {
      "cell_type": "markdown",
      "source": [
        "## Pregunta 13: Un globo se llena con 2 moles de gas a 25 °C. Si el volumen inicial es de 5 litros, ¿cuál será el volumen a 50 °C, manteniendo constante la presión?"
      ],
      "metadata": {
        "id": "WDI3RVVINZeC"
      }
    },
    {
      "cell_type": "code",
      "source": [
        "\"\"\"P=presion (atm o mmHg)\n",
        "V=volumen ocupado por el gas (litros)\n",
        "T=temperatura en kelvin\n",
        "n=numero de moles del gas\n",
        "R=cte universal de los gases (0.082 o 62.4)\"\"\"\n",
        "\n",
        "T1_celsius=25\n",
        "T2_celsius=50\n",
        "\n",
        "T1 = T1_celsius + 273.15\n",
        "T2 = T2_celsius + 273.15\n",
        "\n",
        "#Para un mismo gas con presion cte:\n",
        "#V1/T1 = V2/T2\n",
        "\n",
        "V1=5\n",
        "\n",
        "V2=(V1*T2)/T1\n",
        "V2=round(T2,4)\n",
        "\n",
        "print(\"La nueva temperatura sera\", T2, \"kelvin\")"
      ],
      "metadata": {
        "colab": {
          "base_uri": "https://localhost:8080/"
        },
        "id": "7hzL6o5pg4q-",
        "outputId": "700e49b2-02de-4cd1-f8a8-7dc6996ef933"
      },
      "execution_count": null,
      "outputs": [
        {
          "output_type": "stream",
          "name": "stdout",
          "text": [
            "La nueva temperatura sera 323.15 kelvin\n"
          ]
        }
      ]
    },
    {
      "cell_type": "markdown",
      "source": [
        "## Pregunta 14: 7.2. Si un gas ocupa un volumen de 2 litros a 0 °C, ¿cuál será el volumen a 100 °C si la presión se mantiene constante?"
      ],
      "metadata": {
        "id": "DLxtcyiDNZh3"
      }
    },
    {
      "cell_type": "code",
      "source": [
        "\"\"\"P=presion (atm o mmHg)\n",
        "V=volumen ocupado por el gas (litros)\n",
        "T=temperatura en kelvin\n",
        "n=numero de moles del gas\n",
        "R=cte universal de los gases (0.082 o 62.4)\"\"\"\n",
        "\n",
        "T1_celsius=0\n",
        "T2_celsius=100\n",
        "\n",
        "T1 = T1_celsius + 273.15\n",
        "T2 = T2_celsius + 273.15\n",
        "\n",
        "#Para un mismo gas con presion cte:\n",
        "#V1/T1 = V2/T2\n",
        "\n",
        "V1=2\n",
        "\n",
        "V2=(V1*T2)/T1\n",
        "V2=round(T2,4)\n",
        "\n",
        "print(\"La nueva temperatura sera\", T2, \"kelvin\")"
      ],
      "metadata": {
        "colab": {
          "base_uri": "https://localhost:8080/"
        },
        "id": "z2BbWSsbhpRA",
        "outputId": "99353f40-5bb5-4ebc-d327-4e77da2f90b6"
      },
      "execution_count": null,
      "outputs": [
        {
          "output_type": "stream",
          "name": "stdout",
          "text": [
            "La nueva temperatura sera 373.15 kelvin\n"
          ]
        }
      ]
    },
    {
      "cell_type": "markdown",
      "source": [
        "## Pregunta 15: Un gas ocupa 5 litros a 4 atmósferas de presión. Si se expande a 15 litros, ¿cuál será la nueva presión a temperatura constante?"
      ],
      "metadata": {
        "id": "9f30UMqWNZkf"
      }
    },
    {
      "cell_type": "code",
      "source": [
        "\"\"\"P=presion (atm o mmHg)\n",
        "V=volumen ocupado por el gas (litros)\n",
        "T=temperatura en kelvin\n",
        "n=numero de moles del gas\n",
        "R=cte universal de los gases (0.082 o 62.4)\"\"\"\n",
        "\n",
        "#Para un mismo gas con temperatura cte:\n",
        "#P1xV1 = P2xV2\n",
        "\n",
        "V1=5\n",
        "P1=4\n",
        "\n",
        "V2=15\n",
        "\n",
        "P2=(P1*V1)/V2\n",
        "P2=round(P2,4)\n",
        "\n",
        "print(\"La nueva presion sera\", P2, \"atm\")"
      ],
      "metadata": {
        "colab": {
          "base_uri": "https://localhost:8080/"
        },
        "id": "B7I-6prAh41S",
        "outputId": "ec9294d8-d00e-4423-f937-fbf4585465a1"
      },
      "execution_count": null,
      "outputs": [
        {
          "output_type": "stream",
          "name": "stdout",
          "text": [
            "La nueva presion sera 1.3333 atm\n"
          ]
        }
      ]
    },
    {
      "cell_type": "markdown",
      "source": [
        "## Pregunta 16: Un recipiente contiene oxígeno (O2) y nitrógeno (N2) a una presión total de 3 atmósferas. Si la presión parcial de O2 es de 1 atmósfera, ¿cuál es la presión parcial de N2?"
      ],
      "metadata": {
        "id": "qDTEXO2_NZnQ"
      }
    },
    {
      "cell_type": "code",
      "source": [
        "\"\"\"P=presion (atm o mmHg)\n",
        "V=volumen ocupado por el gas (litros)\n",
        "T=temperatura en kelvin\n",
        "n=numero de moles del gas\n",
        "R=cte universal de los gases (0.082 o 62.4)\"\"\"\n",
        "\n",
        "presion_total=3\n",
        "presion_O2 = 1\n",
        "\n",
        "presion_N2 = presion_total - presion_O2\n",
        "\n",
        "print(\"La presion parcial de N2 es\",presion_N2,\"atm\")"
      ],
      "metadata": {
        "colab": {
          "base_uri": "https://localhost:8080/"
        },
        "id": "AmMWS6oJktp3",
        "outputId": "aa0b545c-93f8-4fe5-e6c7-2714dfefed6f"
      },
      "execution_count": null,
      "outputs": [
        {
          "output_type": "stream",
          "name": "stdout",
          "text": [
            "La presion parcial de N2 es 2 atm\n"
          ]
        }
      ]
    },
    {
      "cell_type": "markdown",
      "source": [
        "## Pregunta 17: Un tanque contiene helio (He) y argón (Ar) a una presión total de 5 atmósferas. Si la presión parcial de He es de 3 atmósferas, ¿cuál es la presión parcial de Ar?"
      ],
      "metadata": {
        "id": "jWhtP7RHNZp2"
      }
    },
    {
      "cell_type": "code",
      "source": [
        "\"\"\"P=presion (atm o mmHg)\n",
        "V=volumen ocupado por el gas (litros)\n",
        "T=temperatura en kelvin\n",
        "n=numero de moles del gas\n",
        "R=cte universal de los gases (0.082 o 62.4)\"\"\"\n",
        "\n",
        "presion_total=5\n",
        "presion_He = 3\n",
        "\n",
        "presion_Ar = presion_total - presion_He\n",
        "\n",
        "print(\"La presion parcial de N2 es\",presion_Ar,\"atm\")"
      ],
      "metadata": {
        "colab": {
          "base_uri": "https://localhost:8080/"
        },
        "id": "xmEXx7tmpbIp",
        "outputId": "f7d81f77-e378-47d3-94fa-b796aead6ed4"
      },
      "execution_count": null,
      "outputs": [
        {
          "output_type": "stream",
          "name": "stdout",
          "text": [
            "La presion parcial de N2 es 2 atm\n"
          ]
        }
      ]
    },
    {
      "cell_type": "markdown",
      "source": [
        "## Pregunta 18: Si 2 moles de un gas real ocupan 3 litros a 300 K y 2 atmósferas de presión, ¿cuál es el factor de compresibilidad (Z) del gas?"
      ],
      "metadata": {
        "id": "aCPvvcDLNZsg"
      }
    },
    {
      "cell_type": "code",
      "source": [
        "\"\"\"P=presion (atm o mmHg)\n",
        "V=volumen ocupado por el gas (litros)\n",
        "T=temperatura en kelvin\n",
        "n=numero de moles del gas\n",
        "R=cte universal de los gases (0.082 o 62.4)\n",
        "Z=factor de compresibilidad\"\"\"\n",
        "\n",
        "T=300\n",
        "V=3\n",
        "P=2\n",
        "n=2\n",
        "R=0.082\n",
        "\n",
        "Z=(P*V)/(R*T)\n",
        "Z=round(Z,4)\n",
        "\n",
        "print(\"El factor de comprensibilidad es\",Z)"
      ],
      "metadata": {
        "colab": {
          "base_uri": "https://localhost:8080/"
        },
        "id": "rNUAkMnrElDd",
        "outputId": "6a2614da-b16b-4c05-b8cd-43fe2af64a95"
      },
      "execution_count": null,
      "outputs": [
        {
          "output_type": "stream",
          "name": "stdout",
          "text": [
            "El factor de comprensibilidad es 0.2439\n"
          ]
        }
      ]
    },
    {
      "cell_type": "markdown",
      "source": [
        "## Pregunta 19: Si se duplica la temperatura de un gas ideal, ¿cómo afecta esto a su presión, suponiendo que el volumen y la cantidad de gas permanezcan constantes?"
      ],
      "metadata": {
        "id": "mQoQX-X3NZu4"
      }
    },
    {
      "cell_type": "code",
      "source": [
        "\"\"\"P=presion (atm o mmHg)\n",
        "V=volumen ocupado por el gas (litros)\n",
        "T=temperatura en kelvin\n",
        "n=numero de moles del gas\n",
        "R=cte universal de los gases (0.082 o 62.4)\"\"\"\n",
        "\n",
        "#De manera proporcional\n",
        "T1=1\n",
        "T2=T1*2\n",
        "\n",
        "P1=1\n",
        "\n",
        "#Para un mismo gas con volumen constante:\n",
        "#P1/T1 = P2/T2\n",
        "\n",
        "P2=(P1*T2)/T1\n",
        "P2=round(T2,4)\n",
        "\n",
        "print(\"La nueva presion sera\", P2, \"veces lo que era la primera presion\")"
      ],
      "metadata": {
        "colab": {
          "base_uri": "https://localhost:8080/"
        },
        "id": "rx6YsuDvp6GM",
        "outputId": "c816e2c2-2075-4b38-8fff-d84ca13fbc03"
      },
      "execution_count": null,
      "outputs": [
        {
          "output_type": "stream",
          "name": "stdout",
          "text": [
            "La nueva presion sera 2 veces lo que era la primera presion\n"
          ]
        }
      ]
    },
    {
      "cell_type": "markdown",
      "source": [
        "## Pregunta 20: Un gas real se encuentra en un recipiente de 5 litros a 350 K y 4 atmósferas de presión. Calcular el factor de compresibilidad (Z) del gas en estas condiciones."
      ],
      "metadata": {
        "id": "iKQgcf4nNpua"
      }
    },
    {
      "cell_type": "code",
      "source": [
        "\"\"\"P=presion (atm o mmHg)\n",
        "V=volumen ocupado por el gas (litros)\n",
        "T=temperatura en kelvin\n",
        "n=numero de moles del gas\n",
        "R=cte universal de los gases (0.082 o 62.4)\n",
        "Z=factor de compresibilidad\"\"\"\n",
        "\n",
        "T=350\n",
        "V=5\n",
        "P=4\n",
        "n=2\n",
        "R=0.082\n",
        "\n",
        "Z=(P*V)/(R*T)\n",
        "Z=round(Z,4)\n",
        "\n",
        "print(\"El factor de comprensibilidad es\",Z)"
      ],
      "metadata": {
        "colab": {
          "base_uri": "https://localhost:8080/"
        },
        "id": "EiE9SbBMFqbA",
        "outputId": "503aa66a-c892-43da-8275-74bfa8fb8f1f"
      },
      "execution_count": null,
      "outputs": [
        {
          "output_type": "stream",
          "name": "stdout",
          "text": [
            "El factor de comprensibilidad es 0.6969\n"
          ]
        }
      ]
    }
  ]
}
