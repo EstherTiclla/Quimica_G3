{
  "nbformat": 4,
  "nbformat_minor": 0,
  "metadata": {
    "colab": {
      "provenance": [],
      "include_colab_link": true
    },
    "kernelspec": {
      "name": "python3",
      "display_name": "Python 3"
    },
    "language_info": {
      "name": "python"
    }
  },
  "cells": [
    {
      "cell_type": "markdown",
      "metadata": {
        "id": "view-in-github",
        "colab_type": "text"
      },
      "source": [
        "<a href=\"https://colab.research.google.com/github/EstherTiclla/Quimica_G3/blob/main/Equilibrio_Quimico%2C_calcular_Kp%2C_grupo_Reactantes.ipynb\" target=\"_parent\"><img src=\"https://colab.research.google.com/assets/colab-badge.svg\" alt=\"Open In Colab\"/></a>"
      ]
    },
    {
      "cell_type": "markdown",
      "source": [
        "**Calculo Quimica, calcular Kp**\n",
        "\n",
        "Grupo \"Los reactantes\"\n",
        "\n",
        "Integrantes:\n",
        "\n",
        "*   Luis Guevara\n",
        "*   Esther Ticlla\n",
        "*   Hector Zerrillo\n",
        "*   Luis Brenis\n",
        "*   Alvaro Cencia"
      ],
      "metadata": {
        "id": "qxlnoPvMlxCj"
      }
    },
    {
      "cell_type": "code",
      "source": [
        "#Importamos chempy\n",
        "!pip install chempy"
      ],
      "metadata": {
        "id": "swBrfxQdlkwq"
      },
      "execution_count": null,
      "outputs": []
    },
    {
      "cell_type": "code",
      "execution_count": null,
      "metadata": {
        "id": "xPR9Lh2ilYFW"
      },
      "outputs": [],
      "source": [
        "from chempy import balance_stoichiometry\n",
        "\n",
        "print(\"\\tCálculo de la constante de equilibrio por presiones parciales\")\n",
        "\n",
        "print(\"Solo gases\")\n",
        "print(\"Ejemplo: C6H5O2 + O2 --> CO2 + OH2\")\n",
        "\n",
        "print(\"\\nIngrese la ecuacion en el formato A + B --> C + D\")\n",
        "\n",
        "A = input(\"Ingrese el elemento A: \")\n",
        "B = input(\"Ingrese el elemento B: \")\n",
        "C = input(\"Ingrese el elemento C: \")\n",
        "D = input(\"Ingrese el elemento D: \")\n",
        "\n",
        "reactantes, productos = balance_stoichiometry({A, B}, {C, D})\n",
        "\n",
        "coef_A = reactantes[A]\n",
        "coef_B = reactantes[B]\n",
        "coef_C = productos[C]\n",
        "coef_D = productos[D]\n",
        "\n",
        "P_A = float(input(\"Ingrese la presión parcial de A: \"))\n",
        "P_B = float(input(\"Ingrese la presión parcial de B: \"))\n",
        "P_C = float(input(\"Ingrese la presión parcial de C: \"))\n",
        "P_D = float(input(\"Ingrese la presión parcial de D: \"))\n",
        "\n",
        "Kp_formula = f\"Kp = ((P_{C})^{coef_C} * (P_{D})^{coef_D}) / ((P_{A})^{coef_A} * (P_{B})^{coef_B})\"\n",
        "\n",
        "Kp = (P_C**coef_C * P_D**coef_D) / (P_A**coef_A * P_B**coef_B)\n",
        "\n",
        "ecuacion_balanceada = f\"{coef_A} {A} + {coef_B} {B} --> {coef_C} {C} + {coef_D} {D}\"\n",
        "\n",
        "print(\"\\nEcuación balanceada: \", ecuacion_balanceada)\n",
        "print(f\"Ecuación de Kp: {Kp_formula}\")\n",
        "print(f\"Kp calculado: {Kp}\")"
      ]
    }
  ]
}