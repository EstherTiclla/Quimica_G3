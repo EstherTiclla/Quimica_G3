{
  "nbformat": 4,
  "nbformat_minor": 0,
  "metadata": {
    "colab": {
      "provenance": [],
      "include_colab_link": true
    },
    "kernelspec": {
      "name": "python3",
      "display_name": "Python 3"
    },
    "language_info": {
      "name": "python"
    },
    "widgets": {
      "application/vnd.jupyter.widget-state+json": {
        "d622c65965644dbba7738960a8eb40c6": {
          "model_module": "faerun-notebook",
          "model_name": "SmilesDrawerModel",
          "model_module_version": "^0.1.5",
          "state": {
            "_dom_classes": [],
            "_model_module": "faerun-notebook",
            "_model_module_version": "^0.1.5",
            "_model_name": "SmilesDrawerModel",
            "_view_count": null,
            "_view_module": "faerun-notebook",
            "_view_module_version": "^0.1.5",
            "_view_name": "SmilesDrawerView",
            "background": "#1e1e1e",
            "border": true,
            "layout": "IPY_MODEL_aa5253448dfc4c8795664fdf5cfc4620",
            "options": {
              "scale": 1.25
            },
            "output": "svg",
            "theme": "dark",
            "value": [
              [
                "Rxn",
                "C(C1C(C(C(C(O1)O)O)O)O)O.O=O>>C(=O)=O.O"
              ]
            ]
          }
        },
        "aa5253448dfc4c8795664fdf5cfc4620": {
          "model_module": "@jupyter-widgets/base",
          "model_name": "LayoutModel",
          "model_module_version": "1.2.0",
          "state": {
            "_model_module": "@jupyter-widgets/base",
            "_model_module_version": "1.2.0",
            "_model_name": "LayoutModel",
            "_view_count": null,
            "_view_module": "@jupyter-widgets/base",
            "_view_module_version": "1.2.0",
            "_view_name": "LayoutView",
            "align_content": null,
            "align_items": null,
            "align_self": null,
            "border": null,
            "bottom": null,
            "display": null,
            "flex": null,
            "flex_flow": null,
            "grid_area": null,
            "grid_auto_columns": null,
            "grid_auto_flow": null,
            "grid_auto_rows": null,
            "grid_column": null,
            "grid_gap": null,
            "grid_row": null,
            "grid_template_areas": null,
            "grid_template_columns": null,
            "grid_template_rows": null,
            "height": null,
            "justify_content": null,
            "justify_items": null,
            "left": null,
            "margin": null,
            "max_height": null,
            "max_width": null,
            "min_height": null,
            "min_width": null,
            "object_fit": null,
            "object_position": null,
            "order": null,
            "overflow": null,
            "overflow_x": null,
            "overflow_y": null,
            "padding": null,
            "right": null,
            "top": null,
            "visibility": null,
            "width": null
          }
        }
      }
    }
  },
  "cells": [
    {
      "cell_type": "markdown",
      "metadata": {
        "id": "view-in-github",
        "colab_type": "text"
      },
      "source": [
        "<a href=\"https://colab.research.google.com/github/EstherTiclla/Quimica_G3/blob/main/TICLLA_PC_1_Quimica_UNMSM.ipynb\" target=\"_parent\"><img src=\"https://colab.research.google.com/assets/colab-badge.svg\" alt=\"Open In Colab\"/></a>"
      ]
    },
    {
      "cell_type": "markdown",
      "source": [
        "$$\\Large \\textit{UNMSM | Química}$$\n",
        "$$\\large \\textbf{PC Nº1 | Materia y clasificación}$$\n",
        "\n",
        "_Profesor: Jesus Alvarado Huayhuaz_"
      ],
      "metadata": {
        "id": "sDJAjbaQOj4x"
      }
    },
    {
      "cell_type": "markdown",
      "source": [
        "Todas las indicaciones para la presentación de la práctica son explicadas en clase y brindadas en el material de enunciado de preguntas en formato PDF."
      ],
      "metadata": {
        "id": "_DsTzWLoP7Fy"
      }
    },
    {
      "cell_type": "markdown",
      "source": [
        "## Pregunta 1: Sobre el ABC de python (4 puntos)"
      ],
      "metadata": {
        "id": "obD7c2igOD6t"
      }
    },
    {
      "cell_type": "markdown",
      "source": [
        "Durante la semana de revisión del material \"ABC de python\", reflexiona sobre qué conceptos aprendiste con claridad y cuáles consideras los más desafiantes. A continuación resuelve los siguiente ejercicios, puedes ayudarte del material en http://bit.ly/3YKICSZ."
      ],
      "metadata": {
        "id": "emt93S7dL7QH"
      }
    },
    {
      "cell_type": "code",
      "source": [
        "# Imprime la versión de python que usas y las palabras reservadas de python para esa versión."
      ],
      "metadata": {
        "id": "6mJvqMN0LTU8"
      },
      "execution_count": null,
      "outputs": []
    },
    {
      "cell_type": "code",
      "source": [
        "import sys\n",
        "import keyword\n",
        "\n",
        "print(sys.version)\n",
        "help(\"keywords\")\n",
        "palabras=keyword.kwlist\n",
        "print(palabras)"
      ],
      "metadata": {
        "id": "u53eNl46cjVp",
        "outputId": "ef86a7e1-5214-441d-d054-b0180259f438",
        "colab": {
          "base_uri": "https://localhost:8080/"
        }
      },
      "execution_count": null,
      "outputs": [
        {
          "output_type": "stream",
          "name": "stdout",
          "text": [
            "3.10.12 (main, Jun 11 2023, 05:26:28) [GCC 11.4.0]\n",
            "\n",
            "Here is a list of the Python keywords.  Enter any keyword to get more help.\n",
            "\n",
            "False               class               from                or\n",
            "None                continue            global              pass\n",
            "True                def                 if                  raise\n",
            "and                 del                 import              return\n",
            "as                  elif                in                  try\n",
            "assert              else                is                  while\n",
            "async               except              lambda              with\n",
            "await               finally             nonlocal            yield\n",
            "break               for                 not                 \n",
            "\n",
            "['False', 'None', 'True', 'and', 'as', 'assert', 'async', 'await', 'break', 'class', 'continue', 'def', 'del', 'elif', 'else', 'except', 'finally', 'for', 'from', 'global', 'if', 'import', 'in', 'is', 'lambda', 'nonlocal', 'not', 'or', 'pass', 'raise', 'return', 'try', 'while', 'with', 'yield']\n"
          ]
        }
      ]
    },
    {
      "cell_type": "code",
      "source": [
        "# Crea una matriz de 3x3 e imprime la suma de los elementos en su diagonal (traza)."
      ],
      "metadata": {
        "id": "MxDzGypdLTXh"
      },
      "execution_count": null,
      "outputs": []
    },
    {
      "cell_type": "code",
      "source": [
        "\n",
        "diagonal_1=0\n",
        "\n",
        "matriz = [[1,2,3],\n",
        "          [4,5,6],\n",
        "          [7,8,9]]\n",
        "for i in range(len(matriz)):\n",
        "      diagonal_1 += matriz[i][i]\n",
        "print(\"La suma de la diagonal principal es: \",diagonal_1)\n",
        "\n",
        "\n"
      ],
      "metadata": {
        "id": "26CtDws9cvYQ",
        "outputId": "b1eac62f-74f0-460f-c517-22d28515fef4",
        "colab": {
          "base_uri": "https://localhost:8080/"
        }
      },
      "execution_count": null,
      "outputs": [
        {
          "output_type": "stream",
          "name": "stdout",
          "text": [
            "La suma de la diagonal principal es:  15\n"
          ]
        }
      ]
    },
    {
      "cell_type": "code",
      "source": [
        "# Guarda como variable la masa atómica de los elementos C, H y O, e imprime la masa molecular del etanol."
      ],
      "metadata": {
        "id": "MyhNX7JmLTSe"
      },
      "execution_count": null,
      "outputs": []
    },
    {
      "cell_type": "code",
      "source": [
        "masa_carbono=12.011\n",
        "masa_hidrogeno=1.008\n",
        "masa_oxigeno=15.999\n",
        "#etanol=C2H6O\n",
        "masa_etanol=masa_carbono*2+masa_hidrogeno*6+masa_oxigeno*1\n",
        "print(\"La masa molecular del etanol es\",masa_etanol)"
      ],
      "metadata": {
        "id": "MICl71RG89Co",
        "outputId": "faf7f28e-d103-461a-c992-af4be19f3201",
        "colab": {
          "base_uri": "https://localhost:8080/"
        }
      },
      "execution_count": null,
      "outputs": [
        {
          "output_type": "stream",
          "name": "stdout",
          "text": [
            "La masa molecular del etanol es 46.069\n"
          ]
        }
      ]
    },
    {
      "cell_type": "code",
      "source": [
        "# Busca la temperatura de fusión en Celsius de 5 metales y guárdalos en una lista. Imprime las temperaturas en Kelvin"
      ],
      "metadata": {
        "id": "NCOnJ0FwgLLc"
      },
      "execution_count": null,
      "outputs": []
    },
    {
      "cell_type": "code",
      "source": [
        "def celsius_kelvin(elem):\n",
        "  return elem + 273.15\n",
        "\n",
        "plata_t=962\n",
        "oro_t=1064\n",
        "estaño_t=232\n",
        "hierro_t=1538\n",
        "tungsteno_t=3422\n",
        "\n",
        "temperatura=[plata_t,oro_t,estaño_t,hierro_t,tungsteno_t]\n",
        "\n",
        "print(\"5 metales con temperaturas de fusion en celsius\")\n",
        "print(temperatura)\n",
        "\n",
        "print(\"5 metales con temeperatura en kelvin\")\n",
        "for x in temperatura:\n",
        "  x = celsius_kelvin(x)\n",
        "  print(x)"
      ],
      "metadata": {
        "id": "QiX3HsKe_cwA",
        "outputId": "55018729-b1df-4dcc-fb5e-8909cac30d43",
        "colab": {
          "base_uri": "https://localhost:8080/"
        }
      },
      "execution_count": null,
      "outputs": [
        {
          "output_type": "stream",
          "name": "stdout",
          "text": [
            "5 metales con temperaturas de fusion en celsius\n",
            "[962, 1064, 232, 1538, 3422]\n",
            "1235.15\n",
            "1337.15\n",
            "505.15\n",
            "1811.15\n",
            "3695.15\n"
          ]
        }
      ]
    },
    {
      "cell_type": "markdown",
      "source": [
        "## Pregunta 2: Operaciones (4 puntos)"
      ],
      "metadata": {
        "id": "epzOadagLfPi"
      }
    },
    {
      "cell_type": "markdown",
      "source": [
        "Escribe un programa que lea repetidamente elementos químicos en español hasta que el usuario introduzca “fin”. Una vez se haya introducido “fin”, muestra por pantalla (o sea imprime) el total de elementos ingresados. Si el usuario introduce cualquier otra cosa que no sea un elemento químico, detecta su fallo usando try y except, muestra un mensaje de error y pasa al siguiente elemento."
      ],
      "metadata": {
        "id": "MbAEOGPsjOWZ"
      }
    },
    {
      "cell_type": "code",
      "source": [
        "tabla_periodica=['actinio', 'aluminio', 'americio', 'antimonio', 'argón', 'arsénico', 'ástato', 'azufre', 'bario', 'berilio', 'berkelio', 'bismuto', 'bohrio', 'boro', 'bromo', 'cadmio', 'calcio', 'californio', 'carbono', 'cerio', 'cesio', 'cloro', 'cobalto', 'cobre', 'copernicium', 'cromo', 'curio', 'darmstadio', 'disprosio', 'dubnio', 'einstenio', 'erbio', 'escandio', 'estaño', 'estroncio', 'europio', 'fermio', 'flerovium', 'fluor', 'fósforo', 'francio', 'gadolinio', 'galio', 'germanio', 'hafnio', 'hassio', 'helio', 'hidrógeno', 'hierro', 'holmio', 'indio', 'iodo', 'iridio', 'iterbio', 'itrio', 'kryptón', 'lantano', 'lawrencio', 'litio', 'livermorium', 'lutecio', 'magnesio', 'manganeso', 'meitnerio', 'mendelevio', 'mercurio', 'molibdeno', 'moscovium', 'neodimio', 'neón', 'neptunio', 'nihonium', 'niobio', 'níquel', 'nitrógeno', 'nobelio', 'oganesson', 'oro', 'osmio', 'oxígeno', 'paladio', 'plata', 'platino', 'plomo', 'plutonio', 'polonio', 'potasio', 'praseodimio', 'promecio', 'protactinio', 'radio', 'radón', 'renio', 'rodio', 'roentgenium', 'rubidio', 'rutenio', 'rutherfordio', 'samario', 'seaborgio', 'selenio', 'sílice', 'sodio', 'talio', 'tantalio', 'tecnecio', 'teluro', 'tennessine', 'terbio', 'titanio', 'torio', 'tulio', 'uranio', 'vanadio', 'wolframio', 'xenón', 'zinc', 'zirconio']\n",
        "elementos_ingresados=[]\n",
        "print(\"\\n\\t Programa para saber cuantos elementos de la tabla periodica se ingresan\\n\")\n",
        "#funcion para que no considere tildes\n",
        "def quitar_tildes(letra):\n",
        "    vocales = [\n",
        "        [\"á\", \"a\"],\n",
        "        [\"é\", \"e\"],\n",
        "        [\"í\", \"i\"],\n",
        "        [\"ó\", \"o\"],\n",
        "        [\"ú\", \"u\"],\n",
        "    ]\n",
        "    for x, y in vocales:\n",
        "        letra = letra.replace(x, y)\n",
        "    return letra\n",
        "def generar_error():\n",
        "    raise ValueError(\"¡Error!\")\n",
        "for x in range(len(tabla_periodica)):\n",
        "  tabla_periodica[x]=tabla_periodica[x].lower()\n",
        "  tabla_periodica[x]=quitar_tildes(tabla_periodica[x])\n",
        "#print(tabla_periodica)\n",
        "while True:\n",
        "  elemento = input(\"Ingrese un elemento de la tabla periodica, escribe 'fin' para finalizar\\n\")\n",
        "  elemento = elemento.lower()\n",
        "  elemento = quitar_tildes(elemento)\n",
        "  try:\n",
        "    if elemento == 'fin':\n",
        "      break\n",
        "    if elemento in tabla_periodica:\n",
        "      if elemento in elementos_ingresados:\n",
        "        print(\"Elemento repetido, ingrese otro\")\n",
        "      else:\n",
        "        elementos_ingresados.insert(-1,elemento)\n",
        "    else:\n",
        "      generar_error()\n",
        "    if len(elementos_ingresados)==118:\n",
        "      print(\"Ya se han ingresado todos los elementos\")\n",
        "      break\n",
        "  except (ValueError):\n",
        "    print(\"Error, no es valido\")\n",
        "print(\"los elementos ingresados son: \",elementos_ingresados)\n",
        "print(\"La cantidad de elementos ingresados es\",len(elementos_ingresados))"
      ],
      "metadata": {
        "id": "gJGX0p5QLetj",
        "colab": {
          "base_uri": "https://localhost:8080/"
        },
        "outputId": "1e680246-41f2-4042-8ce7-335d45ab0654"
      },
      "execution_count": null,
      "outputs": [
        {
          "output_type": "stream",
          "name": "stdout",
          "text": [
            "\n",
            "\t Programa para saber cuantos elementos de la tabla periodica se ingresan\n",
            "\n",
            "Ingrese un elemento de la tabla periodica, escribe 'fin' para finalizar\n",
            "OxIgeno\n",
            "Ingrese un elemento de la tabla periodica, escribe 'fin' para finalizar\n",
            "oxigeno\n",
            "Elemento repetido, ingrese otro\n",
            "Ingrese un elemento de la tabla periodica, escribe 'fin' para finalizar\n",
            "Plomo\n",
            "Ingrese un elemento de la tabla periodica, escribe 'fin' para finalizar\n",
            "PLOMO\n",
            "Elemento repetido, ingrese otro\n",
            "Ingrese un elemento de la tabla periodica, escribe 'fin' para finalizar\n",
            "ÁRGon\n",
            "Ingrese un elemento de la tabla periodica, escribe 'fin' para finalizar\n",
            "argon\n",
            "Elemento repetido, ingrese otro\n",
            "Ingrese un elemento de la tabla periodica, escribe 'fin' para finalizar\n",
            "·%$·$·$·\n",
            "Error, no es valido\n",
            "Ingrese un elemento de la tabla periodica, escribe 'fin' para finalizar\n",
            "weor8iywer\n",
            "Error, no es valido\n",
            "Ingrese un elemento de la tabla periodica, escribe 'fin' para finalizar\n",
            "FIN\n",
            "los elementos ingresados son:  ['plomo', 'argon', 'oxigeno']\n",
            "La cantidad de elementos ingresados es 3\n"
          ]
        }
      ]
    },
    {
      "cell_type": "markdown",
      "source": [
        "# Pregunta 3: Conservación de la masa (4 puntos)"
      ],
      "metadata": {
        "id": "8gxSHpD3LZsh"
      }
    },
    {
      "cell_type": "markdown",
      "source": [
        "### Código necesario para generar la imagen"
      ],
      "metadata": {
        "id": "mMV9c3hDl7KL"
      }
    },
    {
      "cell_type": "code",
      "source": [
        "!pip install faerun-notebook==0.1.5b0\n",
        "\n",
        "import ipywidgets as widgets\n",
        "from faerun_notebook import SmilesDrawer\n",
        "from google.colab import output\n",
        "output.enable_custom_widget_manager()"
      ],
      "metadata": {
        "id": "JgF8Ohtbky65"
      },
      "execution_count": null,
      "outputs": []
    },
    {
      "cell_type": "markdown",
      "source": [
        "### Reacción química"
      ],
      "metadata": {
        "id": "5sLC10D_oSrV"
      }
    },
    {
      "cell_type": "markdown",
      "source": [],
      "metadata": {
        "id": "YcNZSfYmgsqH"
      }
    },
    {
      "cell_type": "markdown",
      "source": [
        "Demuestra cómo se cumple la conservación de la masa en la siguiente reacción química. Sugerencia: hacer un balance estequiométrico y luego emplear la masa molecular de reactivos y productos."
      ],
      "metadata": {
        "id": "OVRhAzaVmD86"
      }
    },
    {
      "cell_type": "code",
      "source": [
        "SmilesDrawer(value=[(\"Rxn\", \"C(C1C(C(C(C(O1)O)O)O)O)O.O=O>>C(=O)=O.O\")], theme='dark', background=\"#1e1e1e\", options={'scale': 1.25})"
      ],
      "metadata": {
        "colab": {
          "base_uri": "https://localhost:8080/",
          "height": 288,
          "referenced_widgets": [
            "d622c65965644dbba7738960a8eb40c6",
            "aa5253448dfc4c8795664fdf5cfc4620"
          ]
        },
        "id": "CC0mAXWmnYyN",
        "outputId": "f53feeb3-7b3f-45ac-e2e8-7c5745f67ca0"
      },
      "execution_count": null,
      "outputs": [
        {
          "output_type": "display_data",
          "data": {
            "text/plain": [
              "SmilesDrawer(background='#1e1e1e', options={'scale': 1.25}, theme='dark', value=[('Rxn', 'C(C1C(C(C(C(O1)O)O)O…"
            ],
            "application/vnd.jupyter.widget-view+json": {
              "version_major": 2,
              "version_minor": 0,
              "model_id": "d622c65965644dbba7738960a8eb40c6"
            }
          },
          "metadata": {
            "application/vnd.jupyter.widget-view+json": {
              "colab": {
                "custom_widget_manager": {
                  "url": "https://ssl.gstatic.com/colaboratory-static/widgets/colab-cdn-widget-manager/b3e629b1971e1542/manager.min.js"
                }
              }
            }
          }
        }
      ]
    },
    {
      "cell_type": "code",
      "source": [
        "#Importamos chempy\n",
        "!pip install chempy"
      ],
      "metadata": {
        "id": "SZMKpXjoloWl"
      },
      "execution_count": null,
      "outputs": []
    },
    {
      "cell_type": "markdown",
      "source": [],
      "metadata": {
        "id": "OmEln8TWloK6"
      }
    },
    {
      "cell_type": "code",
      "source": [
        "from chempy import balance_stoichiometry\n",
        "\n",
        "print(\"\\tDemostracion de la conservacion de la masa\")\n",
        "print(\"\\nLa ecuacion es: C6H5O2 + O2 --> CO2 + OH2\\n\")\n",
        "\n",
        "#calcular masa molar de los elementos que es el PA expresados en g/mol\n",
        "from chempy import Substance\n",
        "\n",
        "m_carbono = (Substance.from_formula('C')).mass\n",
        "m_oxigeno = (Substance.from_formula('O')).mass\n",
        "m_hidrogeno = (Substance.from_formula('H')).mass\n",
        "print(\"Masa molar del C: \",m_carbono)\n",
        "print(\"Masa molar del O: \",m_oxigeno)\n",
        "print(\"Masa molar del H: \",m_hidrogeno)\n",
        "\n",
        "#masa molar de reactantes\n",
        "C6H5O6_masa = (Substance.from_formula('C6H5O6')).mass\n",
        "O2_masa = (Substance.from_formula('O2')).mass\n",
        "\n",
        "#masa molar de producto\n",
        "CO2_masa=(Substance.from_formula('CO2')).mass\n",
        "OH2_masa=(Substance.from_formula('OH2')).mass\n",
        "\n",
        "#equilibramos estequiometricamente con Chempy\n",
        "productos,reactantes=balance_stoichiometry({'C6H5O6','O2'},{'CO2','OH2'})\n",
        "\n",
        "coef1=productos['C6H5O6']\n",
        "coef2=productos['O2']\n",
        "coef3=reactantes['CO2']\n",
        "coef4=reactantes['OH2']\n",
        "\n",
        "print(\"\\nEl coeficiente de C6H5O6 es : \",coef1)\n",
        "print(\"El coeficiente de O2: \",coef2)\n",
        "print(\"El coeficiente de CO2: \",coef3)\n",
        "print(\"El coeficiente de OH2: \",coef4)\n",
        "\n",
        "suma_reactantes=round((coef1*C6H5O6_masa)+(coef2*O2_masa),3)\n",
        "suma_productos=round((coef3*CO2_masa)+(coef4*OH2_masa),3)\n",
        "\n",
        "if(suma_reactantes==suma_productos):\n",
        "  print(\"\\nLa ecuacion balanceada es: \",coef1,\"C6H5O2 +\",coef2,\"O2 -->\",coef3,\"CO2 +\",coef4,\"OH2\")\n",
        "  print(\"\\nLa suma de la masa de los reactantes es: \", suma_reactantes)\n",
        "  print(\"\\nLa suma de la masa de los productos es: \", suma_productos)\n",
        "  print(\"\\nSe confirma la ley de coservacion de masa\")\n",
        "else:\n",
        "  print(\"\\nNo se confirma la ley de conservacion de masa\")"
      ],
      "metadata": {
        "colab": {
          "base_uri": "https://localhost:8080/"
        },
        "id": "Ay06wIOmQ_1Z",
        "outputId": "71025364-80c8-43f3-c189-19e1784d4355"
      },
      "execution_count": null,
      "outputs": [
        {
          "output_type": "stream",
          "name": "stdout",
          "text": [
            "\tDemostracion de la conservacion de la masa\n",
            "\n",
            "La ecuacion es: C6H5O2 + O2 --> CO2 + OH2\n",
            "\n",
            "Masa molar del C:  12.011\n",
            "Masa molar del O:  15.999\n",
            "Masa molar del H:  1.008\n",
            "\n",
            "El coeficiente de C6H5O6 es :  4\n",
            "El coeficiente de O2:  17\n",
            "El coeficiente de CO2:  24\n",
            "El coeficiente de OH2:  10\n",
            "\n",
            "La ecuacion balanceada es:  4 C6H5O2 + 17 O2 --> 24 CO2 + 10 OH2\n",
            "\n",
            "La suma de la masa de los reactantes es:  1236.366\n",
            "\n",
            "La suma de la masa de los productos es:  1236.366\n",
            "\n",
            "Se confirma la ley de coservacion de masa\n"
          ]
        }
      ]
    },
    {
      "cell_type": "markdown",
      "source": [
        "## Pregunta 4: Notación científica (4 puntos)"
      ],
      "metadata": {
        "id": "Rh-nAUiKhJNB"
      }
    },
    {
      "cell_type": "markdown",
      "source": [
        "Imprime las siguientes operaciones según la notación científica:\n",
        "\n",
        "(1) $1.321 \\times 10^{-4} + 8.5 \\times 10^{-2}$\n",
        "\n",
        "(2) $1.71 \\times 10^{3} - 2.01 \\times 10^{2}\\$\n",
        "\n",
        "(3) $(7.4 \\times 10^5)(7.2 \\times 10^4)$\n",
        "\n",
        "(4) $(7.4 \\times 10^5)/(7.2 \\times 10^4)$"
      ],
      "metadata": {
        "id": "NIkI45Xdqqnt"
      }
    },
    {
      "cell_type": "code",
      "source": [
        "#definimos funciones de suma, resta, multiplicacion y division para cada uno de los enunciados\n",
        "def suma_2_elem_lista(lista):\n",
        "  suma=(lista[0])+(lista[1])\n",
        "  return suma\n",
        "def resta_2_elem_lista(lista):\n",
        "  resta=(lista[0])-(lista[1])\n",
        "  return resta\n",
        "def multip_2_elem_lista(lista):\n",
        "  multip=(lista[0])*(lista[1])\n",
        "  return multip\n",
        "def divis_2_elem_lista(lista):\n",
        "  try:\n",
        "      divis=(lista[0])/(lista[1])\n",
        "      return divis\n",
        "  except ZeroDivisionError as m:\n",
        "    print(\"No se puede dividir: \",m)\n",
        "  except TypeError as n:\n",
        "    print(\"No se puede dividir: \",n)\n",
        "\n",
        "num1=[(1.321*pow(10,4)),(8.5*pow(10,-2))]\n",
        "num2=[(1.71*pow(10,3)),(2.01*pow(10,2))]\n",
        "num3=[(7.4*pow(10,5)),(7.2*pow(10,4))]\n",
        "num4=[(7.4*pow(10,5)),(7.2*pow(10,4))]\n",
        "\n",
        "num1= (format(suma_2_elem_lista(num1),'.1E'))\n",
        "num2= (format(resta_2_elem_lista(num2),'.1E'))\n",
        "num3= (format(multip_2_elem_lista(num3),'.1E'))\n",
        "num4= (format(divis_2_elem_lista(num4),'.1E'))\n",
        "\n",
        "num1=num1.replace(\"E+\",\" x 10^\")\n",
        "num2=num2.replace(\"E+\",\" x 10^\")\n",
        "num3=num3.replace(\"E+\",\" x 10^\")\n",
        "num4=num4.replace(\"E+\",\" x 10^\")\n",
        "\n",
        "print(num1)\n",
        "print(num2)\n",
        "print(num3)\n",
        "print(num4)\n"
      ],
      "metadata": {
        "colab": {
          "base_uri": "https://localhost:8080/"
        },
        "id": "w2LTDoGTBw_s",
        "outputId": "494ba109-0140-43cf-dceb-b8d719d453b1"
      },
      "execution_count": null,
      "outputs": [
        {
          "output_type": "stream",
          "name": "stdout",
          "text": [
            "1.3 x 10^04\n",
            "1.5 x 10^03\n",
            "5.3 x 10^10\n",
            "1.0 x 10^01\n"
          ]
        }
      ]
    },
    {
      "cell_type": "markdown",
      "source": [
        "## Pregunta 5: Método científico (4 puntos)"
      ],
      "metadata": {
        "id": "CuzCcXJghR14"
      }
    },
    {
      "cell_type": "markdown",
      "source": [
        "Artículo: https://bit.ly/3surZ1W\n",
        "Leer el siguiente artículo y explica cómo es aplicado el método científico. Emplea como máximo 300 palabras."
      ],
      "metadata": {
        "id": "WngRSR-Rhmx1"
      }
    },
    {
      "cell_type": "markdown",
      "source": [
        "En el articulo presentado se nos muestra el caso del la vercidad de la eficacia del LK-99 por medio del metodo cientifico, este metodo se arcteriza por ser refutable, objetivo y racional, por el cual se indentifica problemas o situacion de donde podemos sacar una conclusion conociendo las causas de este.\n",
        "\n",
        "Veremos como se aplico el metodo cientifico en la demostracion de la ineficadios del LK-99 como superconductor.\n",
        "\n",
        "**1. Observacion:** Se dio por medio de la acumulacion de envidencia, es decir las investigaciones de equipos de la Universidad de Pekin, investigadores de Estados Unidos, Europa y más. Estos estudios lograron que que la estructura que poseia el LK-99 lo hacia inviable en su conductividad.\n",
        "\n",
        "**2. Planteamiento del problema:** Se planteo las muestras impuras del del LK-99, asi como la caida de resistividad que ocasionaba los problemas de conducción\n",
        "\n",
        "**3. Planteamiento de la hipotesis:** Por un lado, se supuso que las impuerzas del LK-99 que contienen Cu2S son las que hacen que por momentos la resistividad disminuya y eso hace parecer que el LK-99 es un buen conductor.  Por otro lado, tambien se han hecho suposiciones en base a la teoria de funcional de densidad, el cual supone que el LK-99 posee bandas con propiedades con los electrones que, en algunos casos, hace posible una superconductividad\n",
        "\n",
        "**4. Experimentacion:**  Para la primera hipotesis, usaron dos muestras para probar su hipotesis, la primera con 5% de Cu2S al vacio y la segunda con 70% de Cu2S en aire. Siendo la primera de mayor resistencia y la segunda de menor resistencia, lo que aparentaba gran conductividad. Para la segunda hipotesis, se hicieron experimentos de rayos X para calcular la estructura del LK-99 y sus bandas planas.\n",
        "\n",
        "**5. Analisis:** Para la primer caso, Debido a que las muestras de Cu2S son cercanas al LK-99 es posible comprobar qe realmente los comportamientos que tiene se pueden confundir con los de un superconductor. Para el segundo casolas badas planas del LK-99 poseen electrones que no tienen el mismo comportamiento de un superconductor\n",
        "\n",
        "**6. Conclusion:** En base a las evidencias, el equipo conclye que los indicios de la supuesta conductividad del LK-99 se debieron a la impuerzas del Cu2S. Por lo que el LK-99 no es un superconductor."
      ],
      "metadata": {
        "id": "BCPQExaxiycH"
      }
    },
    {
      "cell_type": "code",
      "source": [],
      "metadata": {
        "id": "0qIABvuSDGbD"
      },
      "execution_count": null,
      "outputs": []
    }
  ]
}